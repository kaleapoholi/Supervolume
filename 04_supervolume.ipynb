{
 "cells": [
  {
   "cell_type": "code",
   "execution_count": 1,
   "id": "20e2458e-968c-4651-b9ab-4f2f78be4c7c",
   "metadata": {},
   "outputs": [],
   "source": [
    "from utils import *\n",
    "st = time.time()"
   ]
  },
  {
   "cell_type": "code",
   "execution_count": 2,
   "id": "2eaa5040-d41b-40b1-9fad-b00333d86ee3",
   "metadata": {},
   "outputs": [],
   "source": [
    "path=\"FB_100030____FB,2817673489/study_0c1e55cc/\"\n",
    "path_subfolder1=path+\"MR7_bb3b1a0b\"#\"MR3_33a7c6a2\"#\"MR4_c61744e9\"#\"MR3_33a7c6a2\"\n",
    "path_subfolder2=path+\"MR5_2e0c276a\"\n",
    "path_subfolder3=path+\"MR3_33a7c6a2\""
   ]
  },
  {
   "cell_type": "code",
   "execution_count": 3,
   "id": "420bdd0a-2b52-4636-ae70-9d32f5707370",
   "metadata": {},
   "outputs": [],
   "source": [
    "# read 2 series (sagittal / coronal / axial)\n",
    "sag_image=serie_reader(path_subfolder1)\n",
    "cor_image = serie_reader(path_subfolder2)\n",
    "ax_image= serie_reader(path_subfolder3)\n",
    "\n",
    "vType= sag_image.GetPixelIDTypeAsString()"
   ]
  },
  {
   "cell_type": "code",
   "execution_count": 4,
   "id": "01b739e6-56b4-4773-b15d-cabce331bda9",
   "metadata": {},
   "outputs": [
    {
     "name": "stdout",
     "output_type": "stream",
     "text": [
      "[[0.4375    0.        0.       ]\n",
      " [0.        0.4375    0.       ]\n",
      " [0.        0.        3.3000002]] [[0.4375 0.     0.    ]\n",
      " [0.     0.4375 0.    ]\n",
      " [0.     0.     3.3   ]] [[0.4375 0.     0.    ]\n",
      " [0.     0.4375 0.    ]\n",
      " [0.     0.     3.6   ]]\n"
     ]
    }
   ],
   "source": [
    "# get spacing of each volume (dependent of orientation)\n",
    "spacing_sag=get_spacing(sag_image)\n",
    "spacing_cor=get_spacing(cor_image)\n",
    "spacing_ax=get_spacing(ax_image)\n",
    "\n",
    "print(spacing_sag, spacing_cor, spacing_ax)"
   ]
  },
  {
   "cell_type": "code",
   "execution_count": 5,
   "id": "a9cbf51a-5719-4663-a5a2-5edd03d5c0d5",
   "metadata": {},
   "outputs": [],
   "source": [
    "# get direction cosin matrix of each volume (dependent of orientation)\n",
    "dir_sag = get_direction(sag_image)\n",
    "dir_cor = get_direction(cor_image)\n",
    "dir_ax = get_direction(ax_image)"
   ]
  },
  {
   "cell_type": "code",
   "execution_count": 6,
   "id": "d8a8b79d-4cd8-42a5-80d8-2365732b101f",
   "metadata": {},
   "outputs": [],
   "source": [
    "#dot product between spacing and Direct Cosine Matrix\n",
    "A_sag=np.dot(dir_sag, spacing_sag)\n",
    "A_cor=np.dot(dir_cor, spacing_cor)\n",
    "A_ax=np.dot(dir_ax, spacing_ax)"
   ]
  },
  {
   "cell_type": "code",
   "execution_count": 7,
   "id": "3c979cb2-5a9e-4c71-a4e0-3c0eaf5b9e1d",
   "metadata": {},
   "outputs": [
    {
     "name": "stdout",
     "output_type": "stream",
     "text": [
      "[  20.95518583 -102.72428033   48.84761293] [  29.43934254 -105.36338197  -81.23900868] [ 117.90852282 -103.56080763   53.28039366]\n"
     ]
    }
   ],
   "source": [
    "#get origin from axial, sag, cor series\n",
    "origin_sag= np.array(sag_image.GetOrigin())\n",
    "origin_cor= np.array(cor_image.GetOrigin())\n",
    "origin_ax = np.array(ax_image.GetOrigin())\n",
    "print(origin_cor, origin_ax, origin_sag)"
   ]
  },
  {
   "cell_type": "code",
   "execution_count": 8,
   "id": "2111ae82-72f6-4cde-ad74-08fe0039a6a6",
   "metadata": {},
   "outputs": [
    {
     "name": "stdout",
     "output_type": "stream",
     "text": [
      "(320, 320, 32) (32, 320, 320)\n"
     ]
    }
   ],
   "source": [
    "#get intensities from each series\n",
    "m_sag=sitk.GetArrayFromImage(sag_image)\n",
    "m_cor=sitk.GetArrayFromImage(cor_image)\n",
    "m_ax=sitk.GetArrayFromImage(ax_image)\n",
    "\n",
    "print(sag_image.GetSize(), m_sag.shape)"
   ]
  },
  {
   "cell_type": "code",
   "execution_count": 9,
   "id": "1c1087ee-cc7a-46e1-8dc6-7b2c7786bcac",
   "metadata": {
    "tags": []
   },
   "outputs": [
    {
     "name": "stdout",
     "output_type": "stream",
     "text": [
      "sag \n",
      "\n"
     ]
    },
    {
     "name": "stderr",
     "output_type": "stream",
     "text": [
      "100%|███████████████████████████████████████████| 32/32 [00:06<00:00,  5.32it/s]\n"
     ]
    },
    {
     "name": "stdout",
     "output_type": "stream",
     "text": [
      "cor \n",
      "\n"
     ]
    },
    {
     "name": "stderr",
     "output_type": "stream",
     "text": [
      "100%|███████████████████████████████████████████| 34/34 [00:06<00:00,  5.10it/s]\n"
     ]
    },
    {
     "name": "stdout",
     "output_type": "stream",
     "text": [
      "ax \n",
      "\n"
     ]
    },
    {
     "name": "stderr",
     "output_type": "stream",
     "text": [
      "100%|███████████████████████████████████████████| 31/31 [00:05<00:00,  5.54it/s]\n"
     ]
    }
   ],
   "source": [
    "# calcul physical coordinates of each volume\n",
    "print(\"sag \\n\")\n",
    "xspa_sag=calcul_physicsCoo(origin_sag, A_sag, m_sag)\n",
    "print(\"cor \\n\")\n",
    "xspa_cor=calcul_physicsCoo(origin_cor, A_cor, m_cor)\n",
    "print(\"ax \\n\")\n",
    "xspa_ax=calcul_physicsCoo(origin_ax, A_ax, m_ax)"
   ]
  },
  {
   "cell_type": "code",
   "execution_count": 10,
   "id": "043078d7-ddc8-4998-a91d-6f9874b58d99",
   "metadata": {
    "tags": []
   },
   "outputs": [
    {
     "name": "stdout",
     "output_type": "stream",
     "text": [
      "            x           y          z\n",
      "0  117.908523 -103.560808  53.280394\n",
      "1  117.969399 -103.127564  53.280394\n",
      "2  118.030276 -102.694320  53.280394\n",
      "3  118.091152 -102.261076  53.280394\n",
      "4  118.152028 -101.827832  53.280394\n",
      "0.4375\n"
     ]
    }
   ],
   "source": [
    "#concat all points from each volume\n",
    "sag_d= pd.DataFrame(xspa_sag, columns=('x', 'y', 'z'))\n",
    "cor_d= pd.DataFrame(xspa_cor, columns=('x', 'y', 'z'))\n",
    "ax_d= pd.DataFrame(xspa_ax, columns=('x', 'y', 'z'))\n",
    "\n",
    "datas = [sag_d, cor_d, ax_d]\n",
    "datas_combined = pd.concat(datas)\n",
    "print(datas_combined.head())\n",
    "\n",
    "newres=np.min(np.asarray([sag_image.GetSpacing(), cor_image.GetSpacing(), ax_image.GetSpacing()]))\n",
    "print(newres)"
   ]
  },
  {
   "cell_type": "code",
   "execution_count": 11,
   "id": "a7726840-b977-47fd-8706-b9f1e3991e91",
   "metadata": {
    "tags": []
   },
   "outputs": [
    {
     "name": "stdout",
     "output_type": "stream",
     "text": [
      "float64 [164.71161767  62.8907225   56.71900472]\n",
      "0.4375 [-10.49432384  62.8907225  -90.56740399] [[0.4375 0.     0.    ]\n",
      " [0.     0.4375 0.    ]\n",
      " [0.     0.     0.4375]] [[ 1.  0.  0.]\n",
      " [ 0. -1.  0.]\n",
      " [ 0.  0.  1.]] 401 398 337\n"
     ]
    }
   ],
   "source": [
    "#determine min coordinates, max coordinates\n",
    "\n",
    "min_xyz=np.array([datas_combined['x'].min(), datas_combined['y'].min(), datas_combined['z'].min()]) \n",
    "max_xyz=np.array([datas_combined['x'].max(), datas_combined['y'].max(), datas_combined['z'].max()])\n",
    "print(min_xyz.dtype, max_xyz)\n",
    "new_origin, new_spacing, dir_new = define_param(newres, min_xyz, max_xyz)\n",
    "\n",
    "sizeX=ceil((datas_combined['x'].max()-datas_combined['x'].min())/newres)\n",
    "sizeY=ceil((datas_combined['y'].max()-datas_combined['y'].min())/newres)\n",
    "sizeZ=ceil((datas_combined['z'].max()-datas_combined['z'].min())/newres)\n",
    "print(newres, new_origin, new_spacing, dir_new, sizeX, sizeY, sizeZ)"
   ]
  },
  {
   "cell_type": "code",
   "execution_count": 12,
   "id": "e1f3136a-0913-4d9f-b7b1-3e4c2895d74d",
   "metadata": {
    "tags": []
   },
   "outputs": [
    {
     "name": "stdout",
     "output_type": "stream",
     "text": [
      "16.654379740823018 -104.1749785453054 -89.44767178682321 [ 117.90852282 -103.56080763   53.28039366]\n",
      "32\n"
     ]
    }
   ],
   "source": [
    "print(sag_d.x.min(), sag_d.y.min(), sag_d.z.min(), origin_sag)\n",
    "print(m_sag.shape[0])"
   ]
  },
  {
   "cell_type": "code",
   "execution_count": 13,
   "id": "9dd65685-63a9-4ce5-9e5d-d3b903eb4c81",
   "metadata": {
    "tags": []
   },
   "outputs": [],
   "source": [
    "def get_int(IJK, floorIJK, serie, newres):\n",
    "    shapeX, shapeY, shapeZ = serie.shape \n",
    "    d= newres*3\n",
    "    i= floorIJK[...,2].astype(np.int32)\n",
    "    j= floorIJK[...,1].astype(np.int32)\n",
    "    k= floorIJK[...,0].astype(np.int32)\n",
    "    #print(i.shape, i)\n",
    "\n",
    "    di= IJK[..., 2]-i\n",
    "    dj= IJK[..., 1]-j\n",
    "    dk= IJK[..., 0]-k\n",
    "\n",
    "    condition_i = (i >= 0) & (i < shapeX - 3)\n",
    "    condition_j = (j >= 0) & (j < shapeY - 3)\n",
    "    condition_k = (k >= 0) & (k < shapeZ - 3)\n",
    "    \n",
    "    condition_di = (di <= d)\n",
    "    condition_dj = (dj <= d)\n",
    "    condition_dk = (dk <= d)\n",
    "\n",
    "    # Combine the conditions for all three dimensions using logical AND\n",
    "    condition_all = condition_i & condition_j & condition_k & condition_di & condition_dj & condition_dk\n",
    "\n",
    "    # Create the new array (bounds) with values 1 where the condition is True, and 0 where it is False\n",
    "    bounds = np.where(condition_all, 1, 0)\n",
    "\n",
    "    i=i[np.where(bounds==1)]\n",
    "    j=j[np.where(bounds==1)]\n",
    "    k=k[np.where(bounds==1)]\n",
    "\n",
    "    di=di[np.where(bounds==1)]\n",
    "    dj=dj[np.where(bounds==1)]\n",
    "    dk=dk[np.where(bounds==1)]\n",
    "    \n",
    "    # Create an array of zeros with the same shape as bounds\n",
    "    new_vol = np.zeros((bounds.shape))\n",
    "    new_vol[:] =np.nan\n",
    "    # Apply the operation where bounds is equal to 1\n",
    "\n",
    "\n",
    "    new_vol[bounds == 1]=(((1-di)*(1-dj)*(1-dk)*serie[i, j, k])+\n",
    "              ((1-di)*(1-dj)*(dk)*serie[i, j, k+1]) +\n",
    "              ((1-di)*(dj)*(1-dk)*serie[i, j+1, k])+\n",
    "              ((di)*(1-dj)*(1-dk)*serie[i+1, j, k])+\n",
    "              ((di)*(1-dj)*(dk)*serie[i+1, j, k+1])+\n",
    "              ((di)*(dj)*(1-dk)*serie[i+1, j+1, k])+\n",
    "              ((1-di)*(dj)*(dk)*serie[i, j+1, k+1])+\n",
    "              ((di)*(dj)*(dk)*serie[i+1, j+1, k+1]))\n",
    "    return new_vol\n"
   ]
  },
  {
   "cell_type": "code",
   "execution_count": 14,
   "id": "8dd71e18-c0ed-4c51-af03-491457d4cfbf",
   "metadata": {
    "tags": []
   },
   "outputs": [
    {
     "name": "stdout",
     "output_type": "stream",
     "text": [
      "(320, 320, 320) (320, 320, 320) (320, 320, 320)\n",
      "401 398 337\n",
      "(320, 320, 320, 3)\n"
     ]
    },
    {
     "name": "stderr",
     "output_type": "stream",
     "text": [
      "Mean of empty slice\n"
     ]
    }
   ],
   "source": [
    "s=160 #128 crop\n",
    "\n",
    "I=np.arange(int((sizeX/2)-s),int((sizeX/2)+s))\n",
    "J=np.arange(int((sizeY/2)-s),int((sizeY/2)+s))\n",
    "K=np.arange(int((sizeZ/2)-s),int((sizeZ/2)+s))\n",
    "#np.dot(A_new, np.array([i,j,k]))\n",
    "#print(I)\n",
    "A_new=np.dot(dir_new, new_spacing)\n",
    "\n",
    "ii, jj, kk = np.meshgrid(I,J,K, indexing='ij')\n",
    "I012 = np.zeros((ii.shape[0], jj.shape[1], kk.shape[2], 3))\n",
    "I012[:,:,:,0] = ii\n",
    "I012[:,:,:,1] = jj\n",
    "I012[:,:,:,2] = kk\n",
    "print(ii.shape, jj.shape, kk.shape)\n",
    "print(sizeX, sizeY, sizeZ)\n",
    "\n",
    "XYZ=new_origin + np.einsum('ijkl,lm->ijkm', I012, A_new)\n",
    "print(XYZ.shape)\n",
    "\n",
    "# Calculate XYZ - origin_sag first\n",
    "XYZ_minus_origin_sag = XYZ - origin_sag.reshape(1, 3)\n",
    "XYZ_minus_origin_cor = XYZ - origin_cor.reshape(1, 3)\n",
    "XYZ_minus_origin_ax = XYZ - origin_ax.reshape(1, 3)\n",
    "invA_sag=np.linalg.inv(A_sag)\n",
    "invA_cor=np.linalg.inv(A_cor)\n",
    "invA_ax=np.linalg.inv(A_ax)\n",
    "\n",
    "IJK_sag=np.matmul(XYZ_minus_origin_sag, invA_sag.T)\n",
    "IJK_cor=np.matmul(XYZ_minus_origin_cor, invA_cor.T)\n",
    "IJK_ax =np.matmul(XYZ_minus_origin_ax, invA_ax.T)\n",
    "\n",
    "floor_IJK_sag=np.floor(IJK_sag)\n",
    "floor_IJK_cor=np.floor(IJK_cor)\n",
    "floor_IJK_ax =np.floor(IJK_ax)\n",
    "\n",
    "sag_i=get_int(IJK_sag, floor_IJK_sag, m_sag, newres)\n",
    "cor_i=get_int(IJK_cor, floor_IJK_cor, m_cor, newres)\n",
    "ax_i=get_int(IJK_ax, floor_IJK_ax, m_ax, newres)\n",
    "combined_vol = np.nanmean([cor_i, ax_i], axis=0)\n",
    "#ijk_int=np.nanmean(np.array([sag_int, cor_int, ax_int]), axis=0)"
   ]
  },
  {
   "cell_type": "code",
   "execution_count": 15,
   "id": "d508a20d-3646-4e46-aac7-cf385b0a2a5b",
   "metadata": {
    "tags": []
   },
   "outputs": [
    {
     "name": "stdout",
     "output_type": "stream",
     "text": [
      "5430832\n",
      "27337168\n"
     ]
    }
   ],
   "source": [
    "print(np.sum(np.isnan(combined_vol)))\n",
    "print(np.sum(~np.isnan(combined_vol)))\n",
    "combined_vol=np.nan_to_num(combined_vol, nan=0).astype(np.int32)"
   ]
  },
  {
   "cell_type": "code",
   "execution_count": 16,
   "id": "ddde7cda-018f-441f-b72f-a372d7726cf7",
   "metadata": {
    "tags": []
   },
   "outputs": [
    {
     "data": {
      "application/vnd.jupyter.widget-view+json": {
       "model_id": "d49701e2501246a8927115376c0a0267",
       "version_major": 2,
       "version_minor": 0
      },
      "text/plain": [
       "Output()"
      ]
     },
     "metadata": {},
     "output_type": "display_data"
    }
   ],
   "source": [
    "plt_vol= k3d.volume(combined_vol.astype(np.float32), alpha_coef=75,color_map=matplotlib_color_maps.Turbo)\n",
    "plot = k3d.plot()\n",
    "plot += plt_vol\n",
    "\n",
    "plot.display()"
   ]
  },
  {
   "cell_type": "code",
   "execution_count": 17,
   "id": "05304bbd-865c-42d6-b28f-8cdf22077737",
   "metadata": {
    "tags": []
   },
   "outputs": [
    {
     "name": "stdout",
     "output_type": "stream",
     "text": [
      "(320, 320, 320)\n"
     ]
    },
    {
     "data": {
      "application/vnd.jupyter.widget-view+json": {
       "model_id": "5c79e35833eb4057991c5eacd27ec4f6",
       "version_major": 2,
       "version_minor": 0
      },
      "text/plain": [
       "Viewer(geometries=[], gradient_opacity=0.22, point_sets=[], rendered_image=<itk.itkImagePython.itkImageF3; pro…"
      ]
     },
     "execution_count": 17,
     "metadata": {},
     "output_type": "execute_result"
    }
   ],
   "source": [
    "itk_view = itk_view_from_simpleitk(combined_vol.astype(np.float32), (newres, newres, newres), dir_new, new_origin)\n",
    "#itk_view = itk_view_from_simpleitk(m_cor, cor_image.GetSpacing() , dir_cor, origin_cor)\n",
    "itkwidgets.view(itk_view)"
   ]
  },
  {
   "cell_type": "code",
   "execution_count": 18,
   "id": "cbb07038-8911-4f7b-b102-e67d9b414035",
   "metadata": {},
   "outputs": [],
   "source": [
    "# Converting back to SimpleITK (assumes we didn't move the image in space as we copy the information from the original)\n",
    "filename='VOL00_01TEST.nii.gz'\n",
    "nv=combined_vol.astype(np.uint16)\n",
    "result_image = sitk.Image(list(nv.shape), sitk.sitkUInt16)\n",
    "result_image = sitk.GetImageFromArray(nv)\n",
    "result_image.SetSpacing((newres, newres, newres))\n",
    "result_image.SetOrigin(new_origin)\n",
    "result_image.SetDirection(tuple(dir_new.flatten()))\n",
    "    \n",
    "# write the image\n",
    "sitk.WriteImage(result_image, filename)"
   ]
  },
  {
   "cell_type": "code",
   "execution_count": 19,
   "id": "4486a7a3-0a2c-4772-be80-a150ee716cee",
   "metadata": {},
   "outputs": [
    {
     "name": "stdout",
     "output_type": "stream",
     "text": [
      "Execution time: 0.7003578027089437 minutes\n"
     ]
    }
   ],
   "source": [
    "et = time.time()\n",
    "# get the execution time\n",
    "elapsed_time = (et - st)/60\n",
    "print('Execution time:', elapsed_time, 'minutes')"
   ]
  }
 ],
 "metadata": {
  "kernelspec": {
   "display_name": "Python 3 (ipykernel)",
   "language": "python",
   "name": "python3"
  },
  "language_info": {
   "codemirror_mode": {
    "name": "ipython",
    "version": 3
   },
   "file_extension": ".py",
   "mimetype": "text/x-python",
   "name": "python",
   "nbconvert_exporter": "python",
   "pygments_lexer": "ipython3",
   "version": "3.7.5"
  }
 },
 "nbformat": 4,
 "nbformat_minor": 5
}
